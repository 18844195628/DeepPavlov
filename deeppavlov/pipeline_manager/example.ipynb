{
 "cells": [
  {
   "cell_type": "code",
   "execution_count": null,
   "metadata": {
    "collapsed": true
   },
   "outputs": [],
   "source": [
    "from deeppavlov.pipeline_manager.pipeline_manager import PipelineManager\n",
    "from deeppavlov.core.commands.utils import set_deeppavlov_root, expand_path\n",
    "from deeppavlov.download import deep_download\n",
    "\n",
    "set_deeppavlov_root({})\n",
    "data_path = expand_path('snips')\n",
    "\n",
    "path = '/home/mks/projects/DeepPavlov/deeppavlov/configs/my_configs/intents/intents_snips.json'\n",
    "exp_name = 'test_10'\n",
    "mode = 'train'\n",
    "root = '/home/mks/projects/DeepPavlov/experiments/'\n",
    "hyper_search = 'grid'\n",
    "sample_num = 10\n",
    "target_metric = 'classification_f1'\n",
    "\n",
    "\n",
    "def main():\n",
    "\n",
    "    deep_download(['-c', path])\n",
    "\n",
    "    manager = PipelineManager(config_path=path, exp_name=exp_name, mode=mode, root=root,\n",
    "                              hyper_search=hyper_search, sample_num=sample_num, target_metric=target_metric)\n",
    "    manager.run()\n",
    "\n",
    "\n",
    "if __name__ == \"__main__\":\n",
    "    main()"
   ]
  }
 ],
 "metadata": {
  "kernelspec": {
   "display_name": "Python 2",
   "language": "python",
   "name": "python2"
  },
  "language_info": {
   "codemirror_mode": {
    "name": "ipython",
    "version": 2
   },
   "file_extension": ".py",
   "mimetype": "text/x-python",
   "name": "python",
   "nbconvert_exporter": "python",
   "pygments_lexer": "ipython2",
   "version": "2.7.6"
  }
 },
 "nbformat": 4,
 "nbformat_minor": 0
}
